{
  "metadata": {
    "orig_nbformat": 4,
    "colab": {
      "name": "COMP2002",
      "provenance": [],
      "collapsed_sections": [],
      "include_colab_link": true
    },
    "language_info": {
      "name": "python"
    },
    "kernelspec": {
      "name": "python3",
      "display_name": "Python 3"
    }
  },
  "nbformat_minor": 0,
  "nbformat": 4,
  "cells": [
    {
      "cell_type": "markdown",
      "metadata": {
        "id": "view-in-github",
        "colab_type": "text"
      },
      "source": [
        "<a href=\"https://colab.research.google.com/github/Harry040502/COMP1004-NODEJS/blob/main/COMP2002.ipynb\" target=\"_parent\"><img src=\"https://colab.research.google.com/assets/colab-badge.svg\" alt=\"Open In Colab\"/></a>"
      ]
    },
    {
      "cell_type": "markdown",
      "source": [
        "RUN IN order for all Code to function properly"
      ],
      "metadata": {
        "id": "AkJnad7s7MWl"
      }
    },
    {
      "cell_type": "markdown",
      "source": [
        "\n",
        "\n",
        "```\n",
        "IMPORT LIBRARIES\n",
        "```\n",
        "\n"
      ],
      "metadata": {
        "id": "jHWQeDASY4ZY"
      }
    },
    {
      "cell_type": "code",
      "source": [
        "#Import all relavent libraries\n",
        "import matplotlib.pyplot as plt\n",
        "import numpy as np\n",
        "from numpy import std\n",
        "import pydot\n",
        "from numpy import mean\n",
        "from sklearn.decomposition import PCA\n",
        "from sklearn.datasets import load_iris\n",
        "from sklearn.model_selection import train_test_split\n",
        "from sklearn.ensemble import RandomForestRegressor\n",
        "from sklearn.neural_network import MLPRegressor\n",
        "from sklearn.metrics import mean_squared_error\n",
        "from sklearn.metrics import r2_score\n",
        "from sklearn.preprocessing import StandardScaler\n",
        "from sklearn.svm import SVR\n",
        "from sklearn import preprocessing\n",
        "import pandas as pd\n",
        "from sklearn.datasets import make_regression\n",
        "from sklearn.model_selection import cross_val_score\n",
        "from sklearn.model_selection import RepeatedKFold\n",
        "from sklearn.tree import export_graphviz"
      ],
      "metadata": {
        "id": "8skN5De7Y3bG"
      },
      "execution_count": 13,
      "outputs": []
    },
    {
      "cell_type": "markdown",
      "source": [
        "Attaining and formatting data must be reran for every regression type"
      ],
      "metadata": {
        "id": "fohEvnu26sUO"
      }
    },
    {
      "cell_type": "markdown",
      "source": [
        "Create X and y"
      ],
      "metadata": {
        "id": "F6lz9q1Lrn69"
      }
    },
    {
      "cell_type": "code",
      "source": [
        "df1 = pd.read_excel('ENB2012_data.xlsx')\n",
        "X = df1.iloc[:,0:7].values\n",
        "y = df1.iloc[:,8:9].values\n",
        "\n",
        "min_max_scaler = preprocessing.MinMaxScaler()\n",
        "X = min_max_scaler.fit_transform(X)\n",
        "y = min_max_scaler.fit_transform(y)"
      ],
      "metadata": {
        "id": "gKkhDokdiTWN"
      },
      "execution_count": 14,
      "outputs": []
    },
    {
      "cell_type": "markdown",
      "source": [
        "Random Forest Regression"
      ],
      "metadata": {
        "id": "XkTXrBwRYwFi"
      }
    },
    {
      "cell_type": "code",
      "source": [
        "#Create a dataframe containing the contents of ENB2012_data (preconverted to csv)\n",
        "try:\n",
        "  df1 = df1.astype(float)\n",
        "except:\n",
        "  df1.iloc[:1, :]\n",
        "X_train, X_test, y_train, y_test = train_test_split(X, np.ravel(y), test_size=0.2, random_state=0)\n",
        "df1.head(5)\n",
        "print('The shape of the dataframe is:', df1.shape)\n",
        "rf = RandomForestRegressor(n_estimators = 1000, random_state = 2)\n",
        "rf.fit(X_train, y_train)\n",
        "#Predicts test values\n",
        "predictions = rf.predict(X_test)\n",
        "rf_train = cross_val_score(rf, X_train, y_train, cv=5, scoring=\"neg_mean_squared_error\")\n",
        "rf_test = cross_val_score(rf, X_test, y_test, cv=5, scoring=\"neg_mean_squared_error\")\n",
        "\n"
      ],
      "metadata": {
        "colab": {
          "base_uri": "https://localhost:8080/"
        },
        "id": "Tn96woIfYuiC",
        "outputId": "04586e9e-4d99-4ca5-80ee-61bbf236cbc0"
      },
      "execution_count": 15,
      "outputs": [
        {
          "output_type": "stream",
          "name": "stdout",
          "text": [
            "The shape of the dataframe is: (768, 10)\n"
          ]
        }
      ]
    },
    {
      "cell_type": "markdown",
      "source": [
        "\n",
        "\n",
        "```\n",
        "# This is formatted as code\n",
        "```\n",
        "\n",
        "MLP Regression\n"
      ],
      "metadata": {
        "id": "LJyDhKALGXeR"
      }
    },
    {
      "cell_type": "code",
      "source": [
        "#Splits test data and training data\n",
        "X_train, X_test, y_train, y_test = train_test_split(X, np.ravel(y))\n",
        "#print(X, y)\n",
        "regr = MLPRegressor(random_state=1, max_iter=5000).fit(X_train, y_train)\n",
        "mlpscore_train = cross_val_score(regr, X_train, y_train, cv=5, scoring=\"neg_mean_squared_error\")\n",
        "mlpscore_test = cross_val_score(regr, X_test, y_test, cv=5, scoring=\"neg_mean_squared_error\")\n",
        "predict = regr.predict(X)\n",
        "#print(\"regr score\", regr.score(X_test, y_test))\n",
        "print(mean_squared_error(predict, y))"
      ],
      "metadata": {
        "id": "_Q6_WhfPGZ0E",
        "colab": {
          "base_uri": "https://localhost:8080/"
        },
        "outputId": "bd4ca80c-e8d5-43b5-8b8f-b37c35ee6ce6"
      },
      "execution_count": 16,
      "outputs": [
        {
          "output_type": "stream",
          "name": "stdout",
          "text": [
            "0.006381932725202422\n"
          ]
        }
      ]
    },
    {
      "cell_type": "markdown",
      "source": [
        "SVR Regression"
      ],
      "metadata": {
        "id": "tOg3B85P68H_"
      }
    },
    {
      "cell_type": "code",
      "source": [
        "dataset = pd.read_excel('ENB2012_data.xlsx')\n",
        "dataset = dataset.dropna(axis=1, how=\"all\")\n",
        "dataset = dataset.dropna(axis=0, how=\"any\")\n",
        "\n",
        "\n",
        "oldy = dataset.iloc[1:, 8:9]\n",
        "oldX = dataset.iloc[1:, 9:10]\n",
        "\n",
        "X_train, X_test, y_train, y_test = train_test_split(oldX, oldy, random_state=1)\n",
        "\n",
        "from sklearn.preprocessing import StandardScaler\n",
        "sc_X = StandardScaler()\n",
        "sc_y = StandardScaler()\n",
        "X = sc_X.fit_transform(X_train)\n",
        "y = sc_y.fit_transform(y_train)\n",
        "X_grid = np.arange(min(X), max(X), 0.01) #this step required because data is feature scaled.\n",
        "X_grid = X_grid.reshape((len(X_grid), 1))\n",
        "\n",
        "from sklearn.svm import SVR\n",
        "regressor = SVR(kernel='rbf')\n",
        "regressor.fit(X,y)\n",
        "plt.scatter(y, X, color = 'green')\n",
        "plt.plot(tuple(X_grid), regressor.predict(tuple(X_grid)), color = 'magenta')\n",
        "plt.title('Support Vector Regression Model')\n",
        "plt.xlabel(\"X\")\n",
        "plt.ylabel(\"y\")\n",
        "plt.show()\n",
        "\n",
        "\n",
        "#crossvalue \n",
        "\n",
        "SVRscore_train = cross_val_score(regr, X_train, y_train, cv=5, scoring=\"neg_mean_squared_error\")\n",
        "SVRscore_test = cross_val_score(regr, X_test, y_test, cv=5, scoring=\"neg_mean_squared_error\")\n",
        "#Accuracy\n",
        "predictedx_Grid = regressor.predict(X_grid)\n",
        "print(\"og\", X_grid[5],\"ogend predstart:\", predictedx_Grid[5],\"predend\")\n",
        "print(X_grid + predictedx_Grid)\n",
        "#Mean Squared Error Shown\n",
        "accuracy_SVR = 100-mean_squared_error(abs(X_grid), abs(regressor.predict(tuple(X_grid))))*100\n",
        "print(\"Accuracy: \", 100-mean_squared_error(abs(X_grid), abs(regressor.predict(tuple(X_grid))))*100, \"%\")\n",
        "#svr_plot = np.concatenate(predictedx_Grid, np.ndarray.max(predictedx_Grid), np.ndarray.min(float(predictedx_Grid)))"
      ],
      "metadata": {
        "colab": {
          "base_uri": "https://localhost:8080/",
          "height": 957
        },
        "id": "thO5Ns8V7BM8",
        "outputId": "e8c9cab9-0ecf-4fd8-9091-6e8a3134f38b"
      },
      "execution_count": 17,
      "outputs": [
        {
          "output_type": "stream",
          "name": "stderr",
          "text": [
            "/usr/local/lib/python3.7/dist-packages/sklearn/utils/validation.py:993: DataConversionWarning: A column-vector y was passed when a 1d array was expected. Please change the shape of y to (n_samples, ), for example using ravel().\n",
            "  y = column_or_1d(y, warn=True)\n"
          ]
        },
        {
          "output_type": "display_data",
          "data": {
            "text/plain": [
              "<Figure size 432x288 with 1 Axes>"
            ],
            "image/png": "[encoded data removed]"
          },
          "metadata": {
            "needs_background": "light"
          }
        },
        {
          "output_type": "stream",
          "name": "stderr",
          "text": [
            "/usr/local/lib/python3.7/dist-packages/sklearn/neural_network/_multilayer_perceptron.py:1599: DataConversionWarning: A column-vector y was passed when a 1d array was expected. Please change the shape of y to (n_samples, ), for example using ravel().\n",
            "  y = column_or_1d(y, warn=True)\n",
            "/usr/local/lib/python3.7/dist-packages/sklearn/neural_network/_multilayer_perceptron.py:1599: DataConversionWarning: A column-vector y was passed when a 1d array was expected. Please change the shape of y to (n_samples, ), for example using ravel().\n",
            "  y = column_or_1d(y, warn=True)\n",
            "/usr/local/lib/python3.7/dist-packages/sklearn/neural_network/_multilayer_perceptron.py:1599: DataConversionWarning: A column-vector y was passed when a 1d array was expected. Please change the shape of y to (n_samples, ), for example using ravel().\n",
            "  y = column_or_1d(y, warn=True)\n",
            "/usr/local/lib/python3.7/dist-packages/sklearn/neural_network/_multilayer_perceptron.py:1599: DataConversionWarning: A column-vector y was passed when a 1d array was expected. Please change the shape of y to (n_samples, ), for example using ravel().\n",
            "  y = column_or_1d(y, warn=True)\n",
            "/usr/local/lib/python3.7/dist-packages/sklearn/neural_network/_multilayer_perceptron.py:1599: DataConversionWarning: A column-vector y was passed when a 1d array was expected. Please change the shape of y to (n_samples, ), for example using ravel().\n",
            "  y = column_or_1d(y, warn=True)\n",
            "/usr/local/lib/python3.7/dist-packages/sklearn/neural_network/_multilayer_perceptron.py:1599: DataConversionWarning: A column-vector y was passed when a 1d array was expected. Please change the shape of y to (n_samples, ), for example using ravel().\n",
            "  y = column_or_1d(y, warn=True)\n",
            "/usr/local/lib/python3.7/dist-packages/sklearn/neural_network/_multilayer_perceptron.py:1599: DataConversionWarning: A column-vector y was passed when a 1d array was expected. Please change the shape of y to (n_samples, ), for example using ravel().\n",
            "  y = column_or_1d(y, warn=True)\n",
            "/usr/local/lib/python3.7/dist-packages/sklearn/neural_network/_multilayer_perceptron.py:1599: DataConversionWarning: A column-vector y was passed when a 1d array was expected. Please change the shape of y to (n_samples, ), for example using ravel().\n",
            "  y = column_or_1d(y, warn=True)\n",
            "/usr/local/lib/python3.7/dist-packages/sklearn/neural_network/_multilayer_perceptron.py:1599: DataConversionWarning: A column-vector y was passed when a 1d array was expected. Please change the shape of y to (n_samples, ), for example using ravel().\n",
            "  y = column_or_1d(y, warn=True)\n",
            "/usr/local/lib/python3.7/dist-packages/sklearn/neural_network/_multilayer_perceptron.py:1599: DataConversionWarning: A column-vector y was passed when a 1d array was expected. Please change the shape of y to (n_samples, ), for example using ravel().\n",
            "  y = column_or_1d(y, warn=True)\n"
          ]
        },
        {
          "output_type": "stream",
          "name": "stdout",
          "text": [
            "og [-1.36141775] ogend predstart: -1.4463099097202643 predend\n",
            "[[-2.92508407 -2.91201093 -2.89872538 ...  0.33870639  0.33654216\n",
            "   0.33429303]\n",
            " [-2.91508407 -2.90201093 -2.88872538 ...  0.34870639  0.34654216\n",
            "   0.34429303]\n",
            " [-2.90508407 -2.89201093 -2.87872538 ...  0.35870639  0.35654216\n",
            "   0.35429303]\n",
            " ...\n",
            " [ 1.00491593  1.01798907  1.03127462 ...  4.26870639  4.26654216\n",
            "   4.26429303]\n",
            " [ 1.01491593  1.02798907  1.04127462 ...  4.27870639  4.27654216\n",
            "   4.27429303]\n",
            " [ 1.02491593  1.03798907  1.05127462 ...  4.28870639  4.28654216\n",
            "   4.28429303]]\n",
            "Accuracy:  95.96742965789859 %\n"
          ]
        }
      ]
    },
    {
      "cell_type": "markdown",
      "source": [
        "The magenta line is the predicted data and the green is the original Y1 against Y2 data"
      ],
      "metadata": {
        "id": "MQYIBpxap_D0"
      }
    },
    {
      "cell_type": "markdown",
      "source": [
        "Plotting all regressions against each other"
      ],
      "metadata": {
        "id": "i3f8w6RuRF4N"
      }
    },
    {
      "cell_type": "code",
      "source": [
        "SVRscore_trainseries = pd.Series(SVRscore_train*-1/1000)\n",
        "SVRscore_testseries = pd.Series(SVRscore_test*-1/1000)\n",
        "mlpscore_trainseries = pd.Series(mlpscore_train*-1)\n",
        "mlpscore_testseries = pd.Series(mlpscore_test*-1)\n",
        "rf_testseries = pd.Series(rf_test*-1)\n",
        "rf_trainseries = pd.Series(rf_train*-1)\n",
        "\n",
        "resultsdf = pd.concat([mlpscore_trainseries, mlpscore_testseries, rf_testseries, rf_trainseries, SVRscore_trainseries, SVRscore_testseries], axis=1, join=\"inner\")\n",
        "boxplot = resultsdf.boxplot(figsize = (8,8),rot=45)\n"
      ],
      "metadata": {
        "colab": {
          "base_uri": "https://localhost:8080/",
          "height": 484
        },
        "id": "lQHUaEwJcuW4",
        "outputId": "aa4e5261-443c-4769-8672-0fbcd4fb4d0d"
      },
      "execution_count": 18,
      "outputs": [
        {
          "output_type": "display_data",
          "data": {
            "text/plain": [
              "<Figure size 576x576 with 1 Axes>"
            ],
            "image/png": "[encoded data removed]"
          },
          "metadata": {
            "needs_background": "light"
          }
        }
      ]
    },
    {
      "cell_type": "code",
      "source": [
        "resultsdf.columns"
      ],
      "metadata": {
        "colab": {
          "base_uri": "https://localhost:8080/"
        },
        "id": "6OidXkhP2fGx",
        "outputId": "e4a8aab7-a6f3-42ed-eea9-f67334103c7d"
      },
      "execution_count": 44,
      "outputs": [
        {
          "output_type": "execute_result",
          "data": {
            "text/plain": [
              "RangeIndex(start=0, stop=4, step=1)"
            ]
          },
          "metadata": {},
          "execution_count": 44
        }
      ]
    },
    {
      "cell_type": "markdown",
      "source": [
        "Part 2"
      ],
      "metadata": {
        "id": "lBrh0QEGJOwW"
      }
    },
    {
      "cell_type": "code",
      "source": [
        "import pandas as pd\n",
        "import numpy as np\n",
        "import matplotlib.pyplot as plt\n",
        "import sys"
      ],
      "metadata": {
        "id": "mcSUWiSDOjk5"
      },
      "execution_count": 19,
      "outputs": []
    },
    {
      "cell_type": "code",
      "source": [
        "precidenceviolations = 0\n",
        "concurenceviolations = 0\n",
        "data = pd.read_csv(\"Modules.txt\", sep=\"|\", header=None)\n",
        "data.columns = [\"Module\", \"Module leader\", \"Number of labs\", \"Modules cannot conflict\"]\n",
        "data[\"Modules cannot conflict\"] = data[\"Modules cannot conflict\"].str.split(\",\")\n",
        "\n",
        "leclist = ['MOD001', 'MOD002', 'MOD003', 'MOD004', 'MOD005','MOD006','MOD007', 'MOD008','MOD009','MOD010','MOD011','MOD012','MOD013','MOD014','MOD015','MOD016','MOD017']\n",
        "lablist = []\n",
        "counter = 0\n",
        "for x in data[\"Number of labs\"]:\n",
        "  for i in range(0, x):\n",
        "    lablist.append(data[\"Module\"][counter])\n",
        "  counter = counter + 1\n",
        "print(lablist)\n",
        "\n",
        "np.random.shuffle(lablist)\n",
        "np.random.shuffle(leclist)\n",
        "\n",
        "def randomtable():\n",
        "  #Table visualization\n",
        "  #3 book a session #20 sessions a week\n",
        "  #randomize populate the table and return\n",
        "  #[Mon[Session1[Lecture_1, Lab_1, Lab_2]]]\n",
        "  randomtable = [[\"\",\"\",\"\"],[\"\",\"\",\"\"], [\"\",\"\",\"\"], [\"\",\"\",\"\"], [\"\", \"\", \"\"], [\"\", \"\", \"\"], [\"\", \"\", \"\"],[\"\", \"\", \"\"], [\"\", \"\", \"\"], [\"\", \"\", \"\"],[\"\", \"\", \"\"], [\"\", \"\", \"\"], [\"\", \"\", \"\"],[\"\", \"\", \"\"], [\"\", \"\", \"\"], [\"\", \"\", \"\"],[\"\", \"\", \"\"], [\"\", \"\", \"\"], [\"\", \"\", \"\"],[\"\", \"\", \"\"], [\"\", \"\", \"\"], [\"\", \"\", \"\"],[\"\", \"\", \"\"], [\"\", \"\", \"\"], [\"\", \"\", \"\"],[\"\", \"\", \"\"], [\"\", \"\", \"\"], [\"\", \"\", \"\"],[\"\", \"\", \"\"], [\"\", \"\", \"\"]]\n",
        "  labcounter = 0\n",
        "  for i in range(0, len(randomtable)):\n",
        "    try:\n",
        "      randomtable[i][0] = leclist[i]\n",
        "    except:\n",
        "      randomtable[i][0] = \"\"\n",
        "    for l in range(1,3):\n",
        "      try:\n",
        "        randomtable[i][l] = lablist[labcounter]\n",
        "      except:\n",
        "        randomtable[i][l] = \"\"\n",
        "      labcounter+=1\n",
        "    \n",
        "  return(randomtable)\n",
        "  print(randomtable)"
      ],
      "metadata": {
        "colab": {
          "base_uri": "https://localhost:8080/"
        },
        "id": "4v6HQtOgmh39",
        "outputId": "c59158a0-7063-414a-daa7-c47b27813e0d"
      },
      "execution_count": 22,
      "outputs": [
        {
          "output_type": "stream",
          "name": "stdout",
          "text": [
            "['MOD001', 'MOD001', 'MOD002', 'MOD002', 'MOD003', 'MOD003', 'MOD004', 'MOD005', 'MOD005', 'MOD006', 'MOD006', 'MOD006', 'MOD007', 'MOD008', 'MOD008', 'MOD009', 'MOD009', 'MOD009', 'MOD010', 'MOD010', 'MOD011', 'MOD011', 'MOD012', 'MOD012', 'MOD013', 'MOD014', 'MOD014', 'MOD015', 'MOD015', 'MOD016', 'MOD017']\n"
          ]
        }
      ]
    },
    {
      "cell_type": "markdown",
      "source": [
        "Precidence Constraint Handler "
      ],
      "metadata": {
        "id": "wskPyel-uO_P"
      }
    },
    {
      "cell_type": "code",
      "source": [
        "def precidence(random):\n",
        "  c = 0\n",
        "  for i in range(0, len(random)):\n",
        "    if random[i][0] == \"\":\n",
        "      continue\n",
        "    for x in range(0, len(random)):\n",
        "      if x > i:\n",
        "        break\n",
        "      if random[i][0] == random[x][1]:\n",
        "        c = c + 1\n",
        "      if random[i][0] == random[x][2]:\n",
        "        c = c + 1\n",
        "  return c"
      ],
      "metadata": {
        "id": "TRpUcP1zztmn"
      },
      "execution_count": 23,
      "outputs": []
    },
    {
      "cell_type": "code",
      "source": [
        "def concurrence(random):\n",
        "  c = 0\n",
        "  #print(data[\"Number of labs\"].tolist())\n",
        "  labno = []\n",
        "  for i in range(0, len(random)):\n",
        "    for j in range(0, len(random[i])):\n",
        "      if random[i][j] == \"\":\n",
        "        continue\n",
        "      constraintModules = []\n",
        "      pos = data[\"Module\"].values.T.tolist().index(random[i][j])\n",
        "      #print(\"pos\", pos)\n",
        "      clash = data[\"Modules cannot conflict\"].tolist()[pos]\n",
        "      for k in range(0, len(random[i])):\n",
        "        if k == j or random[i][k] == \"\":\n",
        "          continue\n",
        "        else:\n",
        "          pos2 = data[\"Module\"].values.T.tolist().index(random[i][k])\n",
        "          clash2 = data[\"Modules cannot conflict\"].tolist()[pos2]\n",
        "          if random[i][j] in clash2 or random[i][k] in clash or random[i][j] == random[i][k]:\n",
        "            c = c + 1\n",
        "    return c"
      ],
      "metadata": {
        "id": "UvUSgb9HHsdL"
      },
      "execution_count": 24,
      "outputs": []
    },
    {
      "cell_type": "code",
      "source": [
        "def constraints(random):\n",
        "  return (precidence(random) * concurrence(random))"
      ],
      "metadata": {
        "id": "HXgxKnEpwU6n"
      },
      "execution_count": 25,
      "outputs": []
    },
    {
      "cell_type": "markdown",
      "source": [
        "Part 2 (Generation of random solutions)"
      ],
      "metadata": {
        "id": "-68YKfWwOSPR"
      }
    },
    {
      "cell_type": "code",
      "source": [
        "def table_mutate(table):\n",
        "  toggler = False\n",
        "  while toggler == False:\n",
        "    i = np.random.randint(0,17)\n",
        "    j = np.random.randint(0,2)\n",
        "    x = np.random.randint(0,17)\n",
        "    y = np.random.randint(0,2)\n",
        "    if x == i and j == y:\n",
        "      i = np.random.randint(0,17)\n",
        "      j = np.random.randint(0,2)\n",
        "      x = np.random.randint(0,17)\n",
        "      y = np.random.randint(0,2)\n",
        "      toggler = False\n",
        "    else:\n",
        "      toggler = True\n",
        "      #print(i, j)\n",
        "\n",
        "    l = table[i][j]\n",
        "    table[i][j] = table[x][y]\n",
        "    table[x][y] = l\n",
        "  return table"
      ],
      "metadata": {
        "id": "QS1WOowcvkjt"
      },
      "execution_count": 26,
      "outputs": []
    },
    {
      "cell_type": "code",
      "source": [
        "def less_than_equal(a,b):\n",
        "  return a<=b"
      ],
      "metadata": {
        "id": "6zEUEPcjmOdd"
      },
      "execution_count": 27,
      "outputs": []
    },
    {
      "cell_type": "code",
      "source": [
        "def hillclimber(Niter, problem, generate, mutation, comparison):\n",
        "  parent = randomtable()\n",
        "  parent_fitness = problem(parent)\n",
        "\n",
        "  for iter in range(Niter):\n",
        "    #mutate\n",
        "    child = mutation(parent)\n",
        "\n",
        "    child_fitness = problem(child)\n",
        "    \n",
        "    if comparison(child_fitness, parent_fitness):\n",
        "      parent = child\n",
        "      parent_fitness = child_fitness\n",
        "\n",
        "  return parent, parent_fitness"
      ],
      "metadata": {
        "id": "vFv_dYKymPpR"
      },
      "execution_count": 28,
      "outputs": []
    },
    {
      "cell_type": "code",
      "source": [
        "x, y = hillclimber(30, constraints, randomtable, table_mutate, less_than_equal) \n",
        "print(f\"best solution : {x}, fitness {y}\")"
      ],
      "metadata": {
        "colab": {
          "base_uri": "https://localhost:8080/"
        },
        "id": "MhuomSuwmQ13",
        "outputId": "39ff0d63-b69d-44f4-9d18-dfc395e11036"
      },
      "execution_count": 29,
      "outputs": [
        {
          "output_type": "stream",
          "name": "stdout",
          "text": [
            "best solution : [['MOD017', 'MOD006', 'MOD015'], ['MOD015', '', 'MOD001'], ['MOD006', 'MOD008', 'MOD015'], ['MOD013', 'MOD009', 'MOD003'], ['MOD012', 'MOD011', 'MOD016'], ['MOD007', 'MOD010', 'MOD014'], ['MOD008', 'MOD005', 'MOD017'], ['MOD002', 'MOD002', 'MOD004'], ['MOD003', 'MOD016', 'MOD008'], ['MOD007', 'MOD012', 'MOD011'], ['MOD010', 'MOD005', 'MOD006'], ['MOD005', 'MOD009', 'MOD012'], ['MOD011', 'MOD003', 'MOD002'], ['MOD014', 'MOD001', 'MOD013'], ['MOD009', 'MOD010', 'MOD001'], ['MOD006', 'MOD009', ''], ['MOD004', 'MOD014', ''], ['', '', ''], ['', '', ''], ['', '', ''], ['', '', ''], ['', '', ''], ['', '', ''], ['', '', ''], ['', '', ''], ['', '', ''], ['', '', ''], ['', '', ''], ['', '', ''], ['', '', '']], fitness 22\n"
          ]
        }
      ]
    }
  ]
}